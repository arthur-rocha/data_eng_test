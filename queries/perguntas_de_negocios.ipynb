{
 "cells": [
  {
   "cell_type": "markdown",
   "metadata": {
    "application/vnd.databricks.v1+cell": {
     "cellMetadata": {},
     "inputWidgets": {},
     "nuid": "af770077-3d3b-41db-80d4-a462de5beea7",
     "showTitle": false,
     "tableResultSettingsMap": {},
     "title": ""
    }
   },
   "source": [
    "\n",
    "## Requirements:\n",
    "\n",
    "4. Create queries/scripts that can answer following business questions using the data structure created: Expected result: Data processes and results."
   ]
  },
  {
   "cell_type": "markdown",
   "metadata": {
    "application/vnd.databricks.v1+cell": {
     "cellMetadata": {},
     "inputWidgets": {},
     "nuid": "2c507353-9c90-4210-984f-3df791b43b2e",
     "showTitle": false,
     "tableResultSettingsMap": {},
     "title": ""
    }
   },
   "source": [
    "4.1 What are the Top 3 Trade Groups (TRADE_GROUP_DESC) for each Region (Btlr_Org_LVL_C_Desc) in sales ($ Volume)?"
   ]
  },
  {
   "cell_type": "code",
   "execution_count": 0,
   "metadata": {
    "application/vnd.databricks.v1+cell": {
     "cellMetadata": {
      "byteLimit": 2048000,
      "implicitDf": true,
      "rowLimit": 10000
     },
     "inputWidgets": {},
     "nuid": "82cac78f-615c-4b14-9059-939d5b3d4e7f",
     "showTitle": false,
     "tableResultSettingsMap": {},
     "title": ""
    }
   },
   "outputs": [],
   "source": [
    "%sql\n",
    "with tb_rank as (\n",
    "  select TRADE_GROUP_DESC, Btlr_Org_LVL_C_Desc, total_volume,\n",
    "         row_number() over (partition by Btlr_Org_LVL_C_Desc order by total_volume desc) as rank\n",
    "  from ab_inbev.gold.tb_volume_regiao_tradegroup\n",
    ")\n",
    "select TRADE_GROUP_DESC, Btlr_Org_LVL_C_Desc, total_volume, rank\n",
    "from tb_rank\n",
    "where rank <= 3"
   ]
  },
  {
   "cell_type": "markdown",
   "metadata": {
    "application/vnd.databricks.v1+cell": {
     "cellMetadata": {},
     "inputWidgets": {},
     "nuid": "c683b157-18ea-430d-928f-012122343199",
     "showTitle": false,
     "tableResultSettingsMap": {},
     "title": ""
    }
   },
   "source": [
    "  4.2 How much sales ($ Volume) each brand (BRAND_NM) achieved per month?"
   ]
  },
  {
   "cell_type": "code",
   "execution_count": 0,
   "metadata": {
    "application/vnd.databricks.v1+cell": {
     "cellMetadata": {
      "byteLimit": 2048000,
      "implicitDf": true,
      "rowLimit": 10000
     },
     "inputWidgets": {},
     "nuid": "04c74fd8-8b2f-4029-8aa6-0530a7723cf6",
     "showTitle": false,
     "tableResultSettingsMap": {},
     "title": ""
    }
   },
   "outputs": [],
   "source": [
    "%sql\n",
    "select BRAND_NM, `YEAR`, `MONTH`, total_volume\n",
    "from ab_inbev.gold.tb_volume_brand_mes"
   ]
  },
  {
   "cell_type": "markdown",
   "metadata": {
    "application/vnd.databricks.v1+cell": {
     "cellMetadata": {},
     "inputWidgets": {},
     "nuid": "cf83d098-eb32-4575-ae03-0cc70018425d",
     "showTitle": false,
     "tableResultSettingsMap": {},
     "title": ""
    }
   },
   "source": [
    "4.3 Which are the lowest brand (BRAND_NM) in sales ($ Volume) for each region (Btlr_Org_LVL_C_Desc)?"
   ]
  },
  {
   "cell_type": "code",
   "execution_count": 0,
   "metadata": {
    "application/vnd.databricks.v1+cell": {
     "cellMetadata": {
      "byteLimit": 2048000,
      "implicitDf": true,
      "rowLimit": 10000
     },
     "inputWidgets": {},
     "nuid": "1ea8244f-80e1-4a12-87f0-e1bcb3203c91",
     "showTitle": false,
     "tableResultSettingsMap": {},
     "title": ""
    }
   },
   "outputs": [],
   "source": [
    "%sql\n",
    "with tb_rank as (\n",
    "  select BRAND_NM, Btlr_Org_LVL_C_Desc, total_volume,\n",
    "         row_number() over (partition by Btlr_Org_LVL_C_Desc order by total_volume asc) as rank\n",
    "  from ab_inbev.gold.tb_volume_regiao_brand\n",
    ")\n",
    "select *\n",
    "from tb_rank\n",
    "where rank <= 2 --coloquei os 2 piores pq grape eh quase smp 0 "
   ]
  }
 ],
 "metadata": {
  "application/vnd.databricks.v1+notebook": {
   "computePreferences": null,
   "dashboards": [],
   "environmentMetadata": {
    "base_environment": "",
    "client": "1"
   },
   "language": "python",
   "notebookMetadata": {
    "mostRecentlyExecutedCommandWithImplicitDF": {
     "commandId": 7209390768902746,
     "dataframes": [
      "_sqldf"
     ]
    },
    "pythonIndentUnit": 4
   },
   "notebookName": "perguntas_de_negocios",
   "widgets": {}
  },
  "language_info": {
   "name": "python"
  }
 },
 "nbformat": 4,
 "nbformat_minor": 0
}
