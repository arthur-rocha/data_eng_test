{
 "cells": [
  {
   "cell_type": "markdown",
   "metadata": {
    "application/vnd.databricks.v1+cell": {
     "cellMetadata": {},
     "inputWidgets": {},
     "nuid": "aaf0c3c7-90a8-4f39-8233-70ee759871ce",
     "showTitle": false,
     "tableResultSettingsMap": {},
     "title": ""
    }
   },
   "source": [
    "## Camada bronze (raw)\n",
    "\n",
    "- Aqui irei ingerir os dados de forma bruta, apenas disponibilizando para ser processado nas demais camadas"
   ]
  },
  {
   "cell_type": "markdown",
   "metadata": {
    "application/vnd.databricks.v1+cell": {
     "cellMetadata": {},
     "inputWidgets": {},
     "nuid": "a9674f09-af59-4c63-b7b7-3a8b5f883032",
     "showTitle": false,
     "tableResultSettingsMap": {},
     "title": ""
    }
   },
   "source": [
    "### Ingestao"
   ]
  },
  {
   "cell_type": "code",
   "execution_count": 0,
   "metadata": {
    "application/vnd.databricks.v1+cell": {
     "cellMetadata": {
      "byteLimit": 2048000,
      "rowLimit": 10000
     },
     "inputWidgets": {},
     "nuid": "bb254bd3-3d34-429a-b48a-9e4a0f52f126",
     "showTitle": true,
     "tableResultSettingsMap": {},
     "title": "criando mount point a partir do blob container"
    }
   },
   "outputs": [],
   "source": [
    "if not any(mount.mountPoint == '/mnt/datalayer' for mount in dbutils.fs.mounts()):    dbutils.fs.mount(\n",
    "    source='wasbs://datalayer@dbdatalayer.blob.core.windows.net',\n",
    "    mount_point='/mnt/datalayer',\n",
    "    extra_configs={'fs.azure.account.key.dbdatalayer.blob.core.windows.net': dbutils.secrets.get(scope='data_connection', key='blobkey')}\n",
    ")\n"
   ]
  },
  {
   "cell_type": "code",
   "execution_count": 0,
   "metadata": {
    "application/vnd.databricks.v1+cell": {
     "cellMetadata": {
      "byteLimit": 2048000,
      "rowLimit": 10000
     },
     "inputWidgets": {},
     "nuid": "6c23ad68-4b74-43ca-bfde-b671f7d09d78",
     "showTitle": true,
     "tableResultSettingsMap": {},
     "title": "Primeira Tabela"
    }
   },
   "outputs": [],
   "source": [
    "df_channel = spark.read.format(\"csv\").option(\"header\", \"true\").load(\"/mnt/datalayer/raw/abi_bus_case1_beverage_channel_group_20210726.csv\")\n",
    "\n",
    "display(df_channel)"
   ]
  },
  {
   "cell_type": "code",
   "execution_count": 0,
   "metadata": {
    "application/vnd.databricks.v1+cell": {
     "cellMetadata": {
      "byteLimit": 2048000,
      "rowLimit": 10000
     },
     "inputWidgets": {},
     "nuid": "eee4b986-5835-42e0-a097-35427c7a6962",
     "showTitle": false,
     "tableResultSettingsMap": {},
     "title": ""
    }
   },
   "outputs": [],
   "source": [
    "# Aparentemente a chave esta na coluna TRADE_CHNL_DESC\n",
    "df_channel.groupBy(\"TRADE_CHNL_DESC\").count().show()"
   ]
  },
  {
   "cell_type": "code",
   "execution_count": 0,
   "metadata": {
    "application/vnd.databricks.v1+cell": {
     "cellMetadata": {
      "byteLimit": 2048000,
      "rowLimit": 10000
     },
     "inputWidgets": {},
     "nuid": "1df6d69f-0f0f-4817-852a-a258ad5a3ac6",
     "showTitle": true,
     "tableResultSettingsMap": {},
     "title": "Segunda Tabela"
    }
   },
   "outputs": [],
   "source": [
    "#separador e encoding diferente do primeiro arquivo\n",
    "\n",
    "df_sales = spark.read.format(\"csv\").option(\"header\", \"true\").option(\"sep\", \"\\t\").option(\"encoding\",\"UTF-16\").load(\"/mnt/datalayer/raw/abi_bus_case1_beverage_sales_20210726.csv\")\n",
    "\n",
    "display(df_sales)"
   ]
  },
  {
   "cell_type": "markdown",
   "metadata": {
    "application/vnd.databricks.v1+cell": {
     "cellMetadata": {},
     "inputWidgets": {},
     "nuid": "132c7832-c52a-4601-863f-929d05058385",
     "showTitle": false,
     "tableResultSettingsMap": {},
     "title": ""
    }
   },
   "source": [
    "### Escrita\n",
    "\n",
    "- Como estamos na camada bronze, nao irei me preocupar muito com schema "
   ]
  },
  {
   "cell_type": "code",
   "execution_count": 0,
   "metadata": {
    "application/vnd.databricks.v1+cell": {
     "cellMetadata": {
      "byteLimit": 2048000,
      "rowLimit": 10000
     },
     "inputWidgets": {},
     "nuid": "45bb3e8d-a282-4a25-8883-2e800b793b2b",
     "showTitle": false,
     "tableResultSettingsMap": {},
     "title": ""
    }
   },
   "outputs": [],
   "source": [
    "df_sales.withColumnRenamed('$ Volume', 'Volume').write.mode(\"overwrite\").saveAsTable(\"ab_inbev.bronze.beverage_sales\")"
   ]
  },
  {
   "cell_type": "code",
   "execution_count": 0,
   "metadata": {
    "application/vnd.databricks.v1+cell": {
     "cellMetadata": {
      "byteLimit": 2048000,
      "rowLimit": 10000
     },
     "inputWidgets": {},
     "nuid": "77959749-e380-4393-99a8-12ccdf013c31",
     "showTitle": false,
     "tableResultSettingsMap": {},
     "title": ""
    }
   },
   "outputs": [],
   "source": [
    "df_channel.write.mode(\"overwrite\").saveAsTable(\"ab_inbev.bronze.beverage_channels\")"
   ]
  },
  {
   "cell_type": "markdown",
   "metadata": {
    "application/vnd.databricks.v1+cell": {
     "cellMetadata": {},
     "inputWidgets": {},
     "nuid": "f9e20bb2-d0ef-4100-8ef2-bbd87c307527",
     "showTitle": false,
     "tableResultSettingsMap": {},
     "title": ""
    }
   },
   "source": [
    "#### Tabelas juntas (requirement #1)"
   ]
  },
  {
   "cell_type": "code",
   "execution_count": 0,
   "metadata": {
    "application/vnd.databricks.v1+cell": {
     "cellMetadata": {
      "byteLimit": 2048000,
      "rowLimit": 10000
     },
     "inputWidgets": {},
     "nuid": "9b19d031-3fdd-45e6-b23f-43303e3ad653",
     "showTitle": false,
     "tableResultSettingsMap": {},
     "title": ""
    }
   },
   "outputs": [],
   "source": [
    "df_merged = df_sales.join(df_channel, on=\"TRADE_CHNL_DESC\", how=\"left\")\n",
    "\n",
    "display(df_merged)"
   ]
  },
  {
   "cell_type": "code",
   "execution_count": 0,
   "metadata": {
    "application/vnd.databricks.v1+cell": {
     "cellMetadata": {
      "byteLimit": 2048000,
      "rowLimit": 10000
     },
     "inputWidgets": {},
     "nuid": "1862d525-efdf-4001-8121-555a2d821da7",
     "showTitle": false,
     "tableResultSettingsMap": {},
     "title": ""
    }
   },
   "outputs": [],
   "source": [
    "#validacoes de sucesso no merge\n",
    "df_merged.filter(df_merged.TRADE_GROUP_DESC.isNull()).count() == 0"
   ]
  },
  {
   "cell_type": "code",
   "execution_count": 0,
   "metadata": {
    "application/vnd.databricks.v1+cell": {
     "cellMetadata": {
      "byteLimit": 2048000,
      "rowLimit": 10000
     },
     "inputWidgets": {},
     "nuid": "3c50ef60-8e8e-4a63-a877-91bd2faaab42",
     "showTitle": false,
     "tableResultSettingsMap": {},
     "title": ""
    }
   },
   "outputs": [],
   "source": [
    "#validacoes de sucesso no merge\n",
    "df_merged.count() == df_sales.count()"
   ]
  },
  {
   "cell_type": "code",
   "execution_count": 0,
   "metadata": {
    "application/vnd.databricks.v1+cell": {
     "cellMetadata": {
      "byteLimit": 2048000,
      "rowLimit": 10000
     },
     "inputWidgets": {},
     "nuid": "750ddee6-16ae-4caa-9812-f32beccb7b1d",
     "showTitle": false,
     "tableResultSettingsMap": {},
     "title": ""
    }
   },
   "outputs": [],
   "source": [
    "df_merged.withColumnRenamed('$ Volume', 'Volume').write.mode(\"overwrite\").saveAsTable(\"ab_inbev.bronze.beverage_sales_and_channels\")"
   ]
  }
 ],
 "metadata": {
  "application/vnd.databricks.v1+notebook": {
   "computePreferences": null,
   "dashboards": [],
   "environmentMetadata": {
    "base_environment": "",
    "client": "1"
   },
   "language": "python",
   "notebookMetadata": {
    "pythonIndentUnit": 4
   },
   "notebookName": "bronze_layer",
   "widgets": {}
  },
  "language_info": {
   "name": "python"
  }
 },
 "nbformat": 4,
 "nbformat_minor": 0
}
